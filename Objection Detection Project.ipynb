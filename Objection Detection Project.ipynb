{
 "cells": [
  {
   "cell_type": "code",
   "execution_count": 1,
   "metadata": {},
   "outputs": [],
   "source": [
    "# Import our Computer Vision library and other necessary libraries\n",
    "import cv2 as cv\n",
    "import numpy as np\n"
   ]
  },
  {
   "cell_type": "code",
   "execution_count": 2,
   "metadata": {},
   "outputs": [],
   "source": [
    "config_file = \"ssd_mobilenet_v3_large_coco_2020_01_14.pbtxt\"\n",
    "frozen_model = \"frozen_inference_graph.pb\"   \n",
    "\n",
    "detection_model = cv.dnn.DetectionModel(frozen_model, config_file)  # Loading the tensorflow pretrained model\n"
   ]
  },
  {
   "cell_type": "code",
   "execution_count": 3,
   "metadata": {},
   "outputs": [
    {
     "data": {
      "text/plain": [
       "< cv2.dnn.Model 0000028F296DC3B0>"
      ]
     },
     "execution_count": 3,
     "metadata": {},
     "output_type": "execute_result"
    }
   ],
   "source": [
    "# Ajust the settings of our tensorflow detection model\n",
    "detection_model.setInputSize(320, 320)\n",
    "detection_model.setInputScale(1.0/127.5)\n",
    "detection_model.setInputMean(127.5)\n"
   ]
  },
  {
   "cell_type": "code",
   "execution_count": null,
   "metadata": {},
   "outputs": [],
   "source": [
    "# Load our class labels into a list\n",
    "with open(\"coco names labels.txt\", \"r\") as label_str:\n",
    "    class_labels = label_str.read().split(\"\\n\")\n",
    "class_labels\n"
   ]
  },
  {
   "cell_type": "code",
   "execution_count": 10,
   "metadata": {},
   "outputs": [],
   "source": [
    "cap_vid = cv.VideoCapture(0)\n",
    "\n",
    "# Check if the recording is opened correctly\n",
    "if not cap_vid.isOpened:\n",
    "    cap_vid = cv.VideoCapture(0)\n",
    "if not cap_vid.isOpened:\n",
    "    raise IOError(\"Could not Open Video.\")\n",
    "\n",
    "font_scale = 3\n",
    "font = cv.FONT_HERSHEY_PLAIN\n",
    "\n",
    "while True:\n",
    "    _, cap_img = cap_vid.read()\n",
    "    img_filpped = cv.flip(cap_img, 1)\n",
    "    class_index_list, confidence, bbox = detection_model.detect(img_filpped, confThreshold= 0.5)\n",
    "\n",
    "    if (len(class_index_list) != 0):\n",
    "        for Class_Ind, conf, box_ord in zip(class_index_list, confidence, bbox):\n",
    "            if (Class_Ind <= 80):\n",
    "                cv.rectangle(img_filpped, (box_ord[0], box_ord[1]), (box_ord[2], box_ord[3]), (0, 255, 0), thickness= 2)\n",
    "                cv.putText(img_filpped, class_labels[Class_Ind-1], (box_ord[0] + 10, box_ord[1] + 40), fontFace= font, fontScale= font_scale, color= (255, 0, 0), thickness= 3)\n",
    "            \n",
    "    cv.imshow(\"Capture\", img_filpped)\n",
    "\n",
    "    if cv.waitKey(30) == ord(\"m\"):\n",
    "        break\n",
    "\n",
    "cap_vid.release()\n",
    "cv.destroyAllWindows()    \n",
    "\n"
   ]
  },
  {
   "cell_type": "code",
   "execution_count": null,
   "metadata": {},
   "outputs": [],
   "source": []
  }
 ],
 "metadata": {
  "kernelspec": {
   "display_name": "Python 3",
   "language": "python",
   "name": "python3"
  },
  "language_info": {
   "codemirror_mode": {
    "name": "ipython",
    "version": 3
   },
   "file_extension": ".py",
   "mimetype": "text/x-python",
   "name": "python",
   "nbconvert_exporter": "python",
   "pygments_lexer": "ipython3",
   "version": "3.11.2"
  }
 },
 "nbformat": 4,
 "nbformat_minor": 2
}
