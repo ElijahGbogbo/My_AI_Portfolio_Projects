{
 "cells": [
  {
   "cell_type": "code",
   "execution_count": 1,
   "metadata": {},
   "outputs": [],
   "source": [
    "import cv2 as cv\n",
    "import imutils\n",
    "\n",
    "import threading\n",
    "import winsound\n"
   ]
  },
  {
   "cell_type": "code",
   "execution_count": 8,
   "metadata": {},
   "outputs": [
    {
     "name": "stdout",
     "output_type": "stream",
     "text": [
      "ALARM\n",
      "ALARM\n",
      "ALARM\n",
      "ALARM\n",
      "ALARM\n",
      "ALARM\n",
      "ALARM\n",
      "ALARM\n",
      "ALARM\n",
      "ALARM\n",
      "ALARM\n",
      "ALARM\n",
      "ALARM\n",
      "ALARM\n",
      "ALARM\n",
      "ALARM\n",
      "ALARM\n",
      "ALARM\n",
      "ALARM\n",
      "ALARM\n"
     ]
    }
   ],
   "source": [
    "capt = cv.VideoCapture(0, cv.CAP_DSHOW)\n",
    "\n",
    "capt.set(cv.CAP_PROP_FRAME_WIDTH, 640)\n",
    "capt.set(cv.CAP_PROP_FRAME_HEIGHT, 480)\n",
    "\n",
    "_, start_frame = capt.read()\n",
    "start_frame = imutils.resize(start_frame, width= 500)\n",
    "start_frame = cv.cvtColor(start_frame, cv.COLOR_BGR2GRAY)\n",
    "start_frame = cv.GaussianBlur(start_frame, (21, 21), 0)\n",
    "\n",
    "alarm = False\n",
    "alarm_mode = False\n",
    "alarm_counter = 0   #Length of time for movement to cause an alarm\n",
    "\n",
    "def activate_alarm():\n",
    "    global alarm\n",
    "    for _ in range(5):\n",
    "        if not alarm_mode:\n",
    "            break\n",
    "        print(\"ALARM\")\n",
    "        winsound.Beep(2500, 1000)\n",
    "    alarm = False\n",
    "\n",
    "while True:\n",
    "    _, next_frame = capt.read()\n",
    "    next_frame = imutils.resize(next_frame, width= 500)\n",
    "\n",
    "    if alarm_mode:\n",
    "        nframe_gray = cv.cvtColor(next_frame, cv.COLOR_BGR2GRAY)\n",
    "        nframe_gray = cv.GaussianBlur(nframe_gray, (5, 5), 0)\n",
    "\n",
    "        difference = cv.absdiff(nframe_gray, start_frame)\n",
    "        threshold = cv.threshold(difference, 25, 255, cv.THRESH_BINARY)[1]\n",
    "        start_frame = nframe_gray\n",
    "\n",
    "        if threshold.sum() > 100000:  # This code determines the amount of movement to trigger the alarm\n",
    "            alarm_counter += 1\n",
    "        else:\n",
    "            if alarm_counter > 0:\n",
    "                alarm_counter -= 1\n",
    "        cv.imshow(\"Cam\", threshold)\n",
    "    else:\n",
    "        cv.imshow(\"Cam\", next_frame)\n",
    "    \n",
    "    if alarm_counter > 30:   # This code determines the length of time for movement to trigger the alarm\n",
    "        if not alarm:\n",
    "            alarm = True\n",
    "            threading.Thread(target= activate_alarm).start()\n",
    "\n",
    "    key_pressed = cv.waitKey(30)\n",
    "    if key_pressed == ord(\"n\"):\n",
    "        alarm_mode = not alarm_mode\n",
    "        alarm_counter = 0\n",
    "    if key_pressed == ord(\"l\"):\n",
    "        alarm_mode = False\n",
    "        break\n",
    "capt.release()\n",
    "cv.destroyAllWindows()\n",
    "\n",
    "\n"
   ]
  },
  {
   "cell_type": "code",
   "execution_count": null,
   "metadata": {},
   "outputs": [],
   "source": []
  }
 ],
 "metadata": {
  "kernelspec": {
   "display_name": "Python 3",
   "language": "python",
   "name": "python3"
  },
  "language_info": {
   "codemirror_mode": {
    "name": "ipython",
    "version": 3
   },
   "file_extension": ".py",
   "mimetype": "text/x-python",
   "name": "python",
   "nbconvert_exporter": "python",
   "pygments_lexer": "ipython3",
   "version": "3.11.2"
  }
 },
 "nbformat": 4,
 "nbformat_minor": 2
}
