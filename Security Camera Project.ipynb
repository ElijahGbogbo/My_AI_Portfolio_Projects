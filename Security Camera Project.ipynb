{
 "cells": [
  {
   "cell_type": "code",
   "execution_count": 1,
   "metadata": {},
   "outputs": [
    {
     "name": "stdout",
     "output_type": "stream",
     "text": [
      "Start Recording!\n",
      "Stop Recording!\n",
      "Start Recording!\n"
     ]
    }
   ],
   "source": [
    "import cv2 as cv\n",
    "import time\n",
    "import datetime\n",
    " \n",
    "capt = cv.VideoCapture(0)\n",
    "face_cascade = cv.CascadeClassifier(cv.data.haarcascades + \"haarcascade_frontalface_default.xml\")\n",
    "body_cascade = cv.CascadeClassifier(cv.data.haarcascades + \"haarcascade_fullbody.xml\")\n",
    "\n",
    "detection = False\n",
    "detection_stopped_time = None\n",
    "timer_started = False\n",
    "SECONDS_TO_RECORD_AFTER_DETECTION = 5\n",
    "\n",
    "frame_size = (int(capt.get(3)), int(capt.get(4)))\n",
    "fourcc = cv.VideoWriter_fourcc(*\"mp4v\")\n",
    "\n",
    "\n",
    "while True:\n",
    "    _, frame_vid = capt.read()\n",
    "    norm_vid = cv.flip(frame_vid, 1)\n",
    "    grayscl_img = cv.cvtColor(norm_vid, cv.COLOR_BGR2GRAY)\n",
    "    faces_rect = face_cascade.detectMultiScale(grayscl_img, 1.3, 5)\n",
    "    bodies_rect = body_cascade.detectMultiScale(grayscl_img, 1.3, 5)\n",
    "\n",
    "    if len(faces_rect) + len(bodies_rect) > 0:\n",
    "        if detection:\n",
    "            timer_started = False\n",
    "        else:\n",
    "            detection = True\n",
    "            current_time = datetime.datetime.now().strftime(\"%d-%m-%Y-%H-%M-%S\")\n",
    "            out_stream = cv.VideoWriter(f\"{current_time}.mp4\", fourcc, 20.0, frame_size)\n",
    "            print(\"Start Recording!\")\n",
    "    elif detection:\n",
    "        if timer_started:\n",
    "            if time.time() - detection_stopped_time >= SECONDS_TO_RECORD_AFTER_DETECTION:\n",
    "                detection = False\n",
    "                timer_started = False\n",
    "                out_stream.release()\n",
    "                print(\"Stop Recording!\")\n",
    "        else:\n",
    "            timer_started = True\n",
    "            detection_stopped_time = time.time()\n",
    "\n",
    "    # for (x, y, width, height) in faces_rect:\n",
    "    #     cv.rectangle(norm_vid, (x, y), (x + width, y + height), (255, 0, 0), 3)\n",
    "\n",
    "    if detection:\n",
    "        out_stream.write(norm_vid)\n",
    "        \n",
    "    cv.imshow(\"Camera\", norm_vid)\n",
    "    if cv.waitKey(1) == ord(\"m\"):\n",
    "        break\n",
    "out_stream.release()\n",
    "capt.release()\n",
    "cv.destroyAllWindows()\n",
    "\n"
   ]
  },
  {
   "cell_type": "code",
   "execution_count": null,
   "metadata": {},
   "outputs": [],
   "source": []
  }
 ],
 "metadata": {
  "kernelspec": {
   "display_name": "Python 3",
   "language": "python",
   "name": "python3"
  },
  "language_info": {
   "codemirror_mode": {
    "name": "ipython",
    "version": 3
   },
   "file_extension": ".py",
   "mimetype": "text/x-python",
   "name": "python",
   "nbconvert_exporter": "python",
   "pygments_lexer": "ipython3",
   "version": "3.11.2"
  }
 },
 "nbformat": 4,
 "nbformat_minor": 2
}
